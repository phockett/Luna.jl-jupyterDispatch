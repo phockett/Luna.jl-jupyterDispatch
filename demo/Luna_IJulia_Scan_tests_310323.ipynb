{
 "cells": [
  {
   "cell_type": "markdown",
   "metadata": {},
   "source": [
    "# Luna parameter scan tests - Jupyter/IJulia debugging\n",
    "31/03/23\n",
    "\n",
    "Buggy at Scan() creation."
   ]
  },
  {
   "cell_type": "code",
   "execution_count": 1,
   "metadata": {},
   "outputs": [
    {
     "data": {
      "text/plain": [
       "\"/home/paul/scratch/fibre-2023/scanoutput_pressure_energy_test_serial_310323\""
      ]
     },
     "execution_count": 1,
     "metadata": {},
     "output_type": "execute_result"
    }
   ],
   "source": [
    "using Luna\n",
    "import PyPlot: plt\n",
    "\n",
    "# For parameters see http://lupo-lab.com/Luna.jl/dev/interface.html\n",
    "a = 150e-6   # Fixed radius\n",
    "flength = 2.5\n",
    "gas = :Ar\n",
    "λ0 = 800e-9\n",
    "τfwhm = 35e-15\n",
    "λlims = (100e-9, 4e-6)\n",
    "trange = 400e-15\n",
    "\n",
    "# Init dirs\n",
    "scanName = \"pressure_energy_test_serial_310323\"\n",
    "outputdir = joinpath(@__DIR__, \"scanoutput_$scanName\")\n",
    "# mkdir(outputdir)"
   ]
  },
  {
   "cell_type": "code",
   "execution_count": 2,
   "metadata": {},
   "outputs": [
    {
     "ename": "LoadError",
     "evalue": "ArgParse.ArgParseError(\"too many arguments\")",
     "output_type": "error",
     "traceback": [
      "ArgParse.ArgParseError(\"too many arguments\")",
      "",
      "Stacktrace:",
      " [1] argparse_error(x::Any)",
      "   @ ArgParse ~/.julia/packages/ArgParse/bylyV/src/parsing.jl:9",
      " [2] parse_arg!(state::ArgParse.ParserState, settings::ArgParse.ArgParseSettings)",
      "   @ ArgParse ~/.julia/packages/ArgParse/bylyV/src/parsing.jl:918",
      " [3] parse_args_unhandled(args_list::Vector, settings::ArgParse.ArgParseSettings, truncated_shopts::Bool)",
      "   @ ArgParse ~/.julia/packages/ArgParse/bylyV/src/parsing.jl:632",
      " [4] parse_args_unhandled(args_list::Vector, settings::ArgParse.ArgParseSettings)",
      "   @ ArgParse ~/.julia/packages/ArgParse/bylyV/src/parsing.jl:595",
      " [5] parse_args(args_list::Vector, settings::ArgParse.ArgParseSettings; as_symbols::Bool)",
      "   @ ArgParse ~/.julia/packages/ArgParse/bylyV/src/parsing.jl:469",
      " [6] parse_args(args_list::Vector, settings::ArgParse.ArgParseSettings)",
      "   @ ArgParse ~/.julia/packages/ArgParse/bylyV/src/parsing.jl:465",
      " [7] makeexec(args::Vector{String})",
      "   @ Luna.Scans ~/.julia/packages/Luna/cyPdO/src/Scans.jl:205",
      " [8] Luna.Scans.Scan(name::String, cmdlineargs::Vector{String}; kwargs::Base.Pairs{Symbol, Vector{Float64}, Tuple{Symbol}, NamedTuple{(:energy,), Tuple{Vector{Float64}}}})",
      "   @ Luna.Scans ~/.julia/packages/Luna/cyPdO/src/Scans.jl:123",
      " [9] top-level scope",
      "   @ In[2]:8"
     ]
    }
   ],
   "source": [
    "# Scan ranges - as vectors\n",
    "energies = collect(range(50e-6, 500e-6; length=3))\n",
    "pressures = collect(range(0.1, 1.5, length=3))\n",
    "\n",
    "# Init scan\n",
    "scanObj = Scan(scanName; energy=energies)\n",
    "addvariable!(scanObj, :pressure, pressures)"
   ]
  },
  {
   "cell_type": "code",
   "execution_count": 6,
   "metadata": {},
   "outputs": [
    {
     "ename": "LoadError",
     "evalue": "ArgParse.ArgParseError(\"too many arguments\")",
     "output_type": "error",
     "traceback": [
      "ArgParse.ArgParseError(\"too many arguments\")",
      "",
      "Stacktrace:",
      " [1] argparse_error(x::Any)",
      "   @ ArgParse ~/.julia/packages/ArgParse/bylyV/src/parsing.jl:9",
      " [2] parse_arg!(state::ArgParse.ParserState, settings::ArgParse.ArgParseSettings)",
      "   @ ArgParse ~/.julia/packages/ArgParse/bylyV/src/parsing.jl:918",
      " [3] parse_args_unhandled(args_list::Vector, settings::ArgParse.ArgParseSettings, truncated_shopts::Bool)",
      "   @ ArgParse ~/.julia/packages/ArgParse/bylyV/src/parsing.jl:632",
      " [4] parse_args_unhandled(args_list::Vector, settings::ArgParse.ArgParseSettings)",
      "   @ ArgParse ~/.julia/packages/ArgParse/bylyV/src/parsing.jl:595",
      " [5] parse_args(args_list::Vector, settings::ArgParse.ArgParseSettings; as_symbols::Bool)",
      "   @ ArgParse ~/.julia/packages/ArgParse/bylyV/src/parsing.jl:469",
      " [6] parse_args(args_list::Vector, settings::ArgParse.ArgParseSettings)",
      "   @ ArgParse ~/.julia/packages/ArgParse/bylyV/src/parsing.jl:465",
      " [7] makeexec(args::Vector{String})",
      "   @ Luna.Scans ~/.julia/packages/Luna/cyPdO/src/Scans.jl:205",
      " [8] Luna.Scans.Scan(name::String, cmdlineargs::Vector{String}; kwargs::Base.Pairs{Symbol, Vector{Float64}, Tuple{Symbol}, NamedTuple{(:energy,), Tuple{Vector{Float64}}}})",
      "   @ Luna.Scans ~/.julia/packages/Luna/cyPdO/src/Scans.jl:123",
      " [9] top-level scope",
      "   @ In[6]:8"
     ]
    }
   ],
   "source": [
    "# Scan ranges - as lists\n",
    "energies = collect(50e-6:150e-6:500e-6)\n",
    "pressures = collect(0.1:0.5:1.5)\n",
    "\n",
    "# Init scan\n",
    "scanObj = Scan(scanName; energy=energies)\n",
    "addvariable!(scanObj, :pressure, pressures)"
   ]
  },
  {
   "cell_type": "code",
   "execution_count": 8,
   "metadata": {},
   "outputs": [
    {
     "ename": "LoadError",
     "evalue": "ArgParse.ArgParseError(\"too many arguments\")",
     "output_type": "error",
     "traceback": [
      "ArgParse.ArgParseError(\"too many arguments\")",
      "",
      "Stacktrace:",
      "  [1] argparse_error(x::Any)",
      "    @ ArgParse ~/.julia/packages/ArgParse/bylyV/src/parsing.jl:9",
      "  [2] parse_arg!(state::ArgParse.ParserState, settings::ArgParse.ArgParseSettings)",
      "    @ ArgParse ~/.julia/packages/ArgParse/bylyV/src/parsing.jl:918",
      "  [3] parse_args_unhandled(args_list::Vector, settings::ArgParse.ArgParseSettings, truncated_shopts::Bool)",
      "    @ ArgParse ~/.julia/packages/ArgParse/bylyV/src/parsing.jl:632",
      "  [4] parse_args_unhandled(args_list::Vector, settings::ArgParse.ArgParseSettings)",
      "    @ ArgParse ~/.julia/packages/ArgParse/bylyV/src/parsing.jl:595",
      "  [5] parse_args(args_list::Vector, settings::ArgParse.ArgParseSettings; as_symbols::Bool)",
      "    @ ArgParse ~/.julia/packages/ArgParse/bylyV/src/parsing.jl:469",
      "  [6] parse_args(args_list::Vector, settings::ArgParse.ArgParseSettings)",
      "    @ ArgParse ~/.julia/packages/ArgParse/bylyV/src/parsing.jl:465",
      "  [7] makeexec(args::Vector{String})",
      "    @ Luna.Scans ~/.julia/packages/Luna/cyPdO/src/Scans.jl:205",
      "  [8] Luna.Scans.Scan(name::String, cmdlineargs::Vector{String}; kwargs::Base.Pairs{Symbol, Union{}, Tuple{}, NamedTuple{(), Tuple{}}})",
      "    @ Luna.Scans ~/.julia/packages/Luna/cyPdO/src/Scans.jl:123",
      "  [9] Scan (repeats 2 times)",
      "    @ ~/.julia/packages/Luna/cyPdO/src/Scans.jl:122 [inlined]",
      " [10] top-level scope",
      "    @ In[8]:8"
     ]
    }
   ],
   "source": [
    "# Scan ranges - as vectors\n",
    "energies = collect(range(50e-6, 500e-6; length=3))\n",
    "# energies = collect(50e-6:50e-6:500e-6)\n",
    "# pressures = collect(0.1:0.5:1.5)\n",
    "pressures = collect(range(0.1, 1.5, length=3))\n",
    "\n",
    "# Init scan, addvariables syntax only\n",
    "scanObj = Scan(scanName) \n",
    "addvariable!(scanObj, :energy, energies)\n",
    "addvariable!(scanObj, :pressure, pressures)"
   ]
  },
  {
   "cell_type": "markdown",
   "metadata": {},
   "source": [
    "## Test case from docs\n",
    "\n",
    "http://lupo-lab.com/Luna.jl/dev/scans.html"
   ]
  },
  {
   "cell_type": "code",
   "execution_count": 9,
   "metadata": {},
   "outputs": [
    {
     "data": {
      "text/plain": [
       "4.0e-13"
      ]
     },
     "execution_count": 9,
     "metadata": {},
     "output_type": "execute_result"
    }
   ],
   "source": [
    "using Luna\n",
    "import PyPlot: plt\n",
    "\n",
    "a = 125e-6\n",
    "flength = 3\n",
    "gas = :HeJ\n",
    "λ0 = 800e-9\n",
    "τfwhm = 10e-15\n",
    "λlims = (100e-9, 4e-6)\n",
    "trange = 400e-15"
   ]
  },
  {
   "cell_type": "code",
   "execution_count": 10,
   "metadata": {},
   "outputs": [
    {
     "data": {
      "text/plain": [
       "3-element Vector{Float64}:\n",
       " 0.6\n",
       " 1.0\n",
       " 1.4"
      ]
     },
     "execution_count": 10,
     "metadata": {},
     "output_type": "execute_result"
    }
   ],
   "source": [
    "energies = collect(range(50e-6, 200e-6; length=16))\n",
    "pressures = collect(0.6:0.4:1.4)"
   ]
  },
  {
   "cell_type": "code",
   "execution_count": 11,
   "metadata": {},
   "outputs": [
    {
     "ename": "LoadError",
     "evalue": "ArgParse.ArgParseError(\"too many arguments\")",
     "output_type": "error",
     "traceback": [
      "ArgParse.ArgParseError(\"too many arguments\")",
      "",
      "Stacktrace:",
      " [1] argparse_error(x::Any)",
      "   @ ArgParse ~/.julia/packages/ArgParse/bylyV/src/parsing.jl:9",
      " [2] parse_arg!(state::ArgParse.ParserState, settings::ArgParse.ArgParseSettings)",
      "   @ ArgParse ~/.julia/packages/ArgParse/bylyV/src/parsing.jl:918",
      " [3] parse_args_unhandled(args_list::Vector, settings::ArgParse.ArgParseSettings, truncated_shopts::Bool)",
      "   @ ArgParse ~/.julia/packages/ArgParse/bylyV/src/parsing.jl:632",
      " [4] parse_args_unhandled(args_list::Vector, settings::ArgParse.ArgParseSettings)",
      "   @ ArgParse ~/.julia/packages/ArgParse/bylyV/src/parsing.jl:595",
      " [5] parse_args(args_list::Vector, settings::ArgParse.ArgParseSettings; as_symbols::Bool)",
      "   @ ArgParse ~/.julia/packages/ArgParse/bylyV/src/parsing.jl:469",
      " [6] parse_args(args_list::Vector, settings::ArgParse.ArgParseSettings)",
      "   @ ArgParse ~/.julia/packages/ArgParse/bylyV/src/parsing.jl:465",
      " [7] makeexec(args::Vector{String})",
      "   @ Luna.Scans ~/.julia/packages/Luna/cyPdO/src/Scans.jl:205",
      " [8] Luna.Scans.Scan(name::String, cmdlineargs::Vector{String}; kwargs::Base.Pairs{Symbol, Vector{Float64}, Tuple{Symbol}, NamedTuple{(:energy,), Tuple{Vector{Float64}}}})",
      "   @ Luna.Scans ~/.julia/packages/Luna/cyPdO/src/Scans.jl:123",
      " [9] top-level scope",
      "   @ In[11]:1"
     ]
    }
   ],
   "source": [
    "scan = Scan(\"pressure_energy_example\"; energy=energies)\n",
    "addvariable!(scan, :pressure, pressures)"
   ]
  },
  {
   "cell_type": "markdown",
   "metadata": {},
   "source": [
    "## Versions"
   ]
  },
  {
   "cell_type": "code",
   "execution_count": 5,
   "metadata": {},
   "outputs": [
    {
     "name": "stdout",
     "output_type": "stream",
     "text": [
      "Julia Version 1.8.5\n",
      "Commit 17cfb8e65ea (2023-01-08 06:45 UTC)\n",
      "Platform Info:\n",
      "  OS: Linux (x86_64-linux-gnu)\n",
      "  CPU: 64 × AMD Ryzen Threadripper 2990WX 32-Core Processor\n",
      "  WORD_SIZE: 64\n",
      "  LIBM: libopenlibm\n",
      "  LLVM: libLLVM-13.0.1 (ORCJIT, znver1)\n",
      "  Threads: 1 on 64 virtual cores\n"
     ]
    }
   ],
   "source": [
    "versioninfo()"
   ]
  },
  {
   "cell_type": "code",
   "execution_count": 13,
   "metadata": {},
   "outputs": [
    {
     "name": "stdout",
     "output_type": "stream",
     "text": [
      "\u001b[32m\u001b[1mStatus\u001b[22m\u001b[39m `~/.julia/environments/v1.8/Project.toml`\n",
      " \u001b[90m [5789e2e9] \u001b[39mFileIO v1.16.0\n",
      " \u001b[90m [7073ff75] \u001b[39mIJulia v1.24.0\n",
      " \u001b[90m [916415d5] \u001b[39mImages v0.25.2\n",
      " \u001b[90m [30eb0fb0] \u001b[39mLuna v0.2.0\n",
      " \u001b[90m [438e738f] \u001b[39mPyCall v1.95.1\n",
      "\u001b[32m⌃\u001b[39m\u001b[90m [d330b81b] \u001b[39mPyPlot v2.11.0\n",
      "\u001b[36m\u001b[1mInfo\u001b[22m\u001b[39m Packages marked with \u001b[32m⌃\u001b[39m have new versions available and may be upgradable.\n"
     ]
    }
   ],
   "source": [
    "using Pkg\n",
    "Pkg.status()"
   ]
  },
  {
   "cell_type": "code",
   "execution_count": null,
   "metadata": {},
   "outputs": [],
   "source": []
  }
 ],
 "metadata": {
  "kernelspec": {
   "display_name": "Julia 1.8.5",
   "language": "julia",
   "name": "julia-1.8"
  },
  "language_info": {
   "file_extension": ".jl",
   "mimetype": "application/julia",
   "name": "julia",
   "version": "1.8.5"
  }
 },
 "nbformat": 4,
 "nbformat_minor": 4
}
